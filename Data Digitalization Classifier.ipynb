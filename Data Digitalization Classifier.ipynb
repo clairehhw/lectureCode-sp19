{
  "nbformat": 4,
  "nbformat_minor": 0,
  "metadata": {
    "kernelspec": {
      "display_name": "Python 3",
      "language": "python",
      "name": "python3"
    },
    "language_info": {
      "codemirror_mode": {
        "name": "ipython",
        "version": 3
      },
      "file_extension": ".py",
      "mimetype": "text/x-python",
      "name": "python",
      "nbconvert_exporter": "python",
      "pygments_lexer": "ipython3",
      "version": "3.6.2"
    },
    "colab": {
      "name": "Claire_Combined_Classifier.ipynb",
      "provenance": [],
      "collapsed_sections": [],
      "include_colab_link": true
    }
  },
  "cells": [
    {
      "cell_type": "markdown",
      "metadata": {
        "id": "view-in-github",
        "colab_type": "text"
      },
      "source": [
        "<a href=\"https://colab.research.google.com/github/clairehhw/lectureCode-sp19/blob/master/Data%20Digitalization%20Classifier.ipynb\" target=\"_parent\"><img src=\"https://colab.research.google.com/assets/colab-badge.svg\" alt=\"Open In Colab\"/></a>"
      ]
    },
    {
      "cell_type": "code",
      "metadata": {
        "id": "6m0oD3WKAWoM",
        "colab_type": "code",
        "outputId": "e59ebee0-04e9-480e-9037-c5d67038122c",
        "colab": {
          "base_uri": "https://localhost:8080/",
          "height": 224
        }
      },
      "source": [
        "import pandas as pd\n",
        "import sklearn\n",
        "from io import StringIO\n",
        "import os\n",
        "import sys, getopt\n",
        "from sklearn.feature_extraction.text import TfidfVectorizer\n",
        "!pip install PyPDF3\n",
        "from PyPDF3 import PdfFileReader\n",
        "import re\n",
        "import string\n",
        "import numpy as np"
      ],
      "execution_count": 1,
      "outputs": [
        {
          "output_type": "stream",
          "text": [
            "Collecting PyPDF3\n",
            "\u001b[?25l  Downloading https://files.pythonhosted.org/packages/f3/89/21b42319334cc38feb935a94bedfeac85c3dbcfb69c359a1bb8a9fbc895e/PyPDF3-1.0.1.tar.gz (64kB)\n",
            "\r\u001b[K     |█████                           | 10kB 16.9MB/s eta 0:00:01\r\u001b[K     |██████████▏                     | 20kB 1.7MB/s eta 0:00:01\r\u001b[K     |███████████████▎                | 30kB 2.5MB/s eta 0:00:01\r\u001b[K     |████████████████████▍           | 40kB 1.7MB/s eta 0:00:01\r\u001b[K     |█████████████████████████▍      | 51kB 2.1MB/s eta 0:00:01\r\u001b[K     |██████████████████████████████▌ | 61kB 2.5MB/s eta 0:00:01\r\u001b[K     |████████████████████████████████| 71kB 2.2MB/s \n",
            "\u001b[?25hRequirement already satisfied: tqdm in /usr/local/lib/python3.6/dist-packages (from PyPDF3) (4.28.1)\n",
            "Building wheels for collected packages: PyPDF3\n",
            "  Building wheel for PyPDF3 (setup.py) ... \u001b[?25l\u001b[?25hdone\n",
            "  Created wheel for PyPDF3: filename=PyPDF3-1.0.1-cp36-none-any.whl size=61615 sha256=96d139765f3d7cee7416f7da8d204ab22c3a12011e10fcf0cad72a041db60088\n",
            "  Stored in directory: /root/.cache/pip/wheels/96/b4/cb/39888a3c5c7986f06cf15e2fe5d804a2735c7b3962e9f3d736\n",
            "Successfully built PyPDF3\n",
            "Installing collected packages: PyPDF3\n",
            "Successfully installed PyPDF3-1.0.1\n"
          ],
          "name": "stdout"
        }
      ]
    },
    {
      "cell_type": "code",
      "metadata": {
        "id": "HaRQkkElTjo2",
        "colab_type": "code",
        "outputId": "cfba955c-d5d7-41ab-de42-06f8225a8567",
        "colab": {
          "base_uri": "https://localhost:8080/",
          "height": 241
        }
      },
      "source": [
        "# get google drive access\n",
        "!pip install --upgrade -q gspread\n",
        "!pip install gspread-dataframe\n",
        "import gspread\n",
        "from gspread_dataframe import get_as_dataframe, set_with_dataframe\n",
        "from google.colab import auth\n",
        "auth.authenticate_user()\n",
        "from oauth2client.client import GoogleCredentials\n",
        "gc = gspread.authorize(GoogleCredentials.get_application_default())"
      ],
      "execution_count": 2,
      "outputs": [
        {
          "output_type": "stream",
          "text": [
            "Requirement already satisfied: gspread-dataframe in /usr/local/lib/python3.6/dist-packages (3.0.3)\n",
            "Requirement already satisfied: gspread>=3.0.0 in /usr/local/lib/python3.6/dist-packages (from gspread-dataframe) (3.1.0)\n",
            "Requirement already satisfied: pandas>=0.14.0 in /usr/local/lib/python3.6/dist-packages (from gspread-dataframe) (0.25.3)\n",
            "Requirement already satisfied: requests>=2.2.1 in /usr/local/lib/python3.6/dist-packages (from gspread>=3.0.0->gspread-dataframe) (2.21.0)\n",
            "Requirement already satisfied: pytz>=2017.2 in /usr/local/lib/python3.6/dist-packages (from pandas>=0.14.0->gspread-dataframe) (2018.9)\n",
            "Requirement already satisfied: numpy>=1.13.3 in /usr/local/lib/python3.6/dist-packages (from pandas>=0.14.0->gspread-dataframe) (1.17.3)\n",
            "Requirement already satisfied: python-dateutil>=2.6.1 in /usr/local/lib/python3.6/dist-packages (from pandas>=0.14.0->gspread-dataframe) (2.6.1)\n",
            "Requirement already satisfied: urllib3<1.25,>=1.21.1 in /usr/local/lib/python3.6/dist-packages (from requests>=2.2.1->gspread>=3.0.0->gspread-dataframe) (1.24.3)\n",
            "Requirement already satisfied: certifi>=2017.4.17 in /usr/local/lib/python3.6/dist-packages (from requests>=2.2.1->gspread>=3.0.0->gspread-dataframe) (2019.9.11)\n",
            "Requirement already satisfied: idna<2.9,>=2.5 in /usr/local/lib/python3.6/dist-packages (from requests>=2.2.1->gspread>=3.0.0->gspread-dataframe) (2.8)\n",
            "Requirement already satisfied: chardet<3.1.0,>=3.0.2 in /usr/local/lib/python3.6/dist-packages (from requests>=2.2.1->gspread>=3.0.0->gspread-dataframe) (3.0.4)\n",
            "Requirement already satisfied: six>=1.5 in /usr/local/lib/python3.6/dist-packages (from python-dateutil>=2.6.1->pandas>=0.14.0->gspread-dataframe) (1.12.0)\n"
          ],
          "name": "stdout"
        }
      ]
    },
    {
      "cell_type": "markdown",
      "metadata": {
        "id": "t30Wk2gWAWoW",
        "colab_type": "text"
      },
      "source": [
        "# Construct The Reports Dataframe "
      ]
    },
    {
      "cell_type": "markdown",
      "metadata": {
        "id": "FQMP6HkbAWoX",
        "colab_type": "text"
      },
      "source": [
        "## Load Dataframe"
      ]
    },
    {
      "cell_type": "code",
      "metadata": {
        "id": "N8S-Dg8GTtg4",
        "colab_type": "code",
        "colab": {}
      },
      "source": [
        "# Load the Dataset, call it reports\n",
        "sheet1 = gc.open_by_url(\"https://docs.google.com/spreadsheets/d/1OtCqsi6B0jJVOaMZfcgy7HHCHvq1PjBEiTjwCo5fPvk/edit#gid=0\")\n",
        "ws = sheet1.worksheet(\"Sheet1\")\n",
        "reports = get_as_dataframe(ws)\n",
        "reports = reports[['File_Name',\"State\", \"Page_Index\", \"Report Type\",\"Category\"]].dropna()\n"
      ],
      "execution_count": 0,
      "outputs": []
    },
    {
      "cell_type": "code",
      "metadata": {
        "id": "7pxBUSgkLFph",
        "colab_type": "code",
        "colab": {}
      },
      "source": [
        "# Replace invalid values \n",
        "page = 3\n",
        "for i in range(161, 175):\n",
        "  reports.at[i, 'Page_Index'] = page\n",
        "  page += 1"
      ],
      "execution_count": 0,
      "outputs": []
    },
    {
      "cell_type": "code",
      "metadata": {
        "id": "L6z6MUnnMm32",
        "colab_type": "code",
        "outputId": "4641d6c9-3afe-46e0-c10a-f38ef6bf5c40",
        "colab": {
          "base_uri": "https://localhost:8080/",
          "height": 714
        }
      },
      "source": [
        "# Check valid\n",
        "reports.Page_Index.values"
      ],
      "execution_count": 5,
      "outputs": [
        {
          "output_type": "execute_result",
          "data": {
            "text/plain": [
              "array([67, 42, 44, 45, 46, 65, 68, 128, 49, 50, 51, 52, 53, 54, 29, 51,\n",
              "       59, 60, 61, 61, 64, 65, 66, 73, 34, 26, 1, 19, 20, 21, 23, 26, 28,\n",
              "       29, 30, 39, 37, 25, 26, 27, 28, 36, 34, 35, 23, 21, 17, 18, 19, 44,\n",
              "       31, 32, 33, 34, 28, 29, 27, 21, 22, 23, 32, 22, 23, 24, 25, 31, 29,\n",
              "       30, 20, 18, 15, 16, 17, 22, 19, 20, 21, 16, 17, 15, 13, 14, 35, 23,\n",
              "       24, 25, 26, 34, 32, 33, 21, 19, 15, 16, 17, 36, 24, 25, 26, 27, 35,\n",
              "       33, 34, 22, 20, 16, 17, 18, 37, 25, 26, 27, 28, 36, 34, 35, 23, 21,\n",
              "       17, 18, 19, 22, 19, 20, 21, 17, 15, 13, 14, 31, 22, 23, 24, 25, 30,\n",
              "       20, 18, 15, 16, 17, 36, 24, 25, 26, 27, 35, 33, 34, 22, 20, 16, 17,\n",
              "       18, 5, 8, 28, 29, 30, 2, 3, 4, 5, 6, 7, 8, 9, 10, 11, 12, 13, 14,\n",
              "       15, 16, 4, 5, 28, 29, 30, 31, 71, 72, 1, 2, 3, 4, 1, 2, 23, 16, 26,\n",
              "       27, 28, 16, 53, 15, 22, 25, 26, 27, 52, 55, 133, 140, 136, 143, 51,\n",
              "       52, 53, 12, 25, 34, 36, 37, 40, 48, 56, 13, 25, 31, 32, 36, 48, 13,\n",
              "       26, 38, 39, 40, 45, 53, 62, 13, 26, 35, 37, 38, 42, 50, 58, 12, 25,\n",
              "       34, 36, 37, 41, 49, 57, 12, 25, 34, 36, 37, 41, 49, 57, 1, 1, 1,\n",
              "       53, 119, 18, 21, 22, 23, 48, 11, 20, 1, 11, 2, 3, 4, 5, 7, 8, 9, 1,\n",
              "       54, 55, 13, 26, 35, 37, 38, 42, 50, 58, 51, 53, 54, 116, 117, 72,\n",
              "       74, 76, 61, 62, 63, 51, 52, 50, 51, 52, 53, 60, 61, 62, 65, 65, 5,\n",
              "       42, 43, 19, 20, 9, 38, 39, 19, 20, 21, 75, 76, 77, 78, 3, 6, 7, 51,\n",
              "       135, 136, 137, 138, 13, 14, 19, 20, 1, 2, 3, 4, 5, 6, 7, 8, 9, 10,\n",
              "       11, 12, 13, 14, 15, 16, 1, 2, 16, 23, 26, 27, 53, 28, 15, 22, 25,\n",
              "       26, 27, 28, 52, 13, 14, 26, 35, 37, 38, 39, 42, 13, 27, 36, 38, 39,\n",
              "       40, 43, 12, 25, 34, 36, 38, 41, 12, 25, 36, 38, 41, 34, 70, 53, 55,\n",
              "       56, 108, 109, 13, 14, 33, 35, 37, 58, 59, 60, 1, 57, 58, 59, 60,\n",
              "       61, 62, 63, 64, 18, 19, 20, 21, 22, 12, 27, 29, 30, 1, 2, 3, 1, 17,\n",
              "       17, 51, 52, 53, 54, 17, 30, 35, 1, 2, 18, 26, 27, 28, 29, 31, 32,\n",
              "       33, 7, 13, 26, 35, 37, 38, 42, 50, 58, 12, 27, 35, 37, 38, 42, 50,\n",
              "       58, 13, 26, 35, 37, 38, 42, 50, 58, 13, 26, 35, 37, 38, 42, 50, 58,\n",
              "       13, 26, 35, 37, 38, 42, 50, 58, 12, 26, 34, 35, 36, 41, 49, 57, 13,\n",
              "       26, 37, 38, 42, 50, 58, 13, 26, 35, 37, 38, 42, 50, 58, 12, 24, 30,\n",
              "       32, 33, 37, 43, 51, 12, 25, 34, 36, 37, 41, 49, 57, 32, 22, 23, 24,\n",
              "       25, 31, 29, 30, 20, 18, 11, 12, 13, 41, 30, 31, 32, 33, 42, 39, 40,\n",
              "       28, 27, 22, 23, 24, 36, 24, 25, 26, 27, 35, 33, 34, 22, 20, 16, 17,\n",
              "       18, 37, 25, 26, 27, 28, 36, 34, 35, 23, 21, 17, 18, 19, 37, 25, 26,\n",
              "       27, 28, 36, 34, 35, 23, 21, 17, 18, 19, 22, 19, 20, 21, 17, 15, 13,\n",
              "       14, 35, 23, 24, 25, 26, 34, 32, 33, 21, 19, 15, 16, 17, 24, 19, 20,\n",
              "       21, 21, 23, 24, 17, 15, 13, 14, 29, 25, 26, 27, 28, 23, 21, 17, 18,\n",
              "       19, 32, 21, 22, 23, 24, 31, 29, 30, 19, 17, 13, 14, 15, 33, 22, 23,\n",
              "       24, 25, 31, 32, 20, 18, 14, 15, 16, 37, 25, 26, 27, 28, 36, 34, 35,\n",
              "       23, 21, 17, 18, 19, 22, 19, 20, 21, 16, 17, 15, 13, 14, 43, 30, 31,\n",
              "       32, 33, 27, 28, 26, 20, 21, 22], dtype=object)"
            ]
          },
          "metadata": {
            "tags": []
          },
          "execution_count": 5
        }
      ]
    },
    {
      "cell_type": "code",
      "metadata": {
        "id": "fkeEkyR3jSxj",
        "colab_type": "code",
        "outputId": "97e64964-fadc-4863-e043-348d7c7a608a",
        "colab": {
          "base_uri": "https://localhost:8080/",
          "height": 204
        }
      },
      "source": [
        "reports['File_Name'] = reports['File_Name'].astype(str)\n",
        "reports['Page_Index'] = reports['Page_Index'].astype(int)\n",
        "reports.head()"
      ],
      "execution_count": 6,
      "outputs": [
        {
          "output_type": "execute_result",
          "data": {
            "text/html": [
              "<div>\n",
              "<style scoped>\n",
              "    .dataframe tbody tr th:only-of-type {\n",
              "        vertical-align: middle;\n",
              "    }\n",
              "\n",
              "    .dataframe tbody tr th {\n",
              "        vertical-align: top;\n",
              "    }\n",
              "\n",
              "    .dataframe thead th {\n",
              "        text-align: right;\n",
              "    }\n",
              "</style>\n",
              "<table border=\"1\" class=\"dataframe\">\n",
              "  <thead>\n",
              "    <tr style=\"text-align: right;\">\n",
              "      <th></th>\n",
              "      <th>File_Name</th>\n",
              "      <th>State</th>\n",
              "      <th>Page_Index</th>\n",
              "      <th>Report Type</th>\n",
              "      <th>Category</th>\n",
              "    </tr>\n",
              "  </thead>\n",
              "  <tbody>\n",
              "    <tr>\n",
              "      <th>0</th>\n",
              "      <td>8435_FY_2017.pdf</td>\n",
              "      <td>TX</td>\n",
              "      <td>67</td>\n",
              "      <td>Govt Financial Report</td>\n",
              "      <td>Operating Revenues and Expenses by Fund</td>\n",
              "    </tr>\n",
              "    <tr>\n",
              "      <th>1</th>\n",
              "      <td>8435_FY_2017.pdf</td>\n",
              "      <td>TX</td>\n",
              "      <td>42</td>\n",
              "      <td>Govt Financial Report</td>\n",
              "      <td>Depreciation Details</td>\n",
              "    </tr>\n",
              "    <tr>\n",
              "      <th>2</th>\n",
              "      <td>7129_FY_2008.pdf</td>\n",
              "      <td>TX</td>\n",
              "      <td>44</td>\n",
              "      <td>Govt Financial Report</td>\n",
              "      <td>Operating Revenues and Expenses by Fund</td>\n",
              "    </tr>\n",
              "    <tr>\n",
              "      <th>3</th>\n",
              "      <td>7129_FY_2008.pdf</td>\n",
              "      <td>TX</td>\n",
              "      <td>45</td>\n",
              "      <td>Govt Financial Report</td>\n",
              "      <td>Statement of Cash Flow by Fund</td>\n",
              "    </tr>\n",
              "    <tr>\n",
              "      <th>4</th>\n",
              "      <td>7129_FY_2008.pdf</td>\n",
              "      <td>TX</td>\n",
              "      <td>46</td>\n",
              "      <td>Govt Financial Report</td>\n",
              "      <td>Statement of Cash Flow by Fund</td>\n",
              "    </tr>\n",
              "  </tbody>\n",
              "</table>\n",
              "</div>"
            ],
            "text/plain": [
              "          File_Name  ...                                 Category\n",
              "0  8435_FY_2017.pdf  ...  Operating Revenues and Expenses by Fund\n",
              "1  8435_FY_2017.pdf  ...                     Depreciation Details\n",
              "2  7129_FY_2008.pdf  ...  Operating Revenues and Expenses by Fund\n",
              "3  7129_FY_2008.pdf  ...           Statement of Cash Flow by Fund\n",
              "4  7129_FY_2008.pdf  ...           Statement of Cash Flow by Fund\n",
              "\n",
              "[5 rows x 5 columns]"
            ]
          },
          "metadata": {
            "tags": []
          },
          "execution_count": 6
        }
      ]
    },
    {
      "cell_type": "markdown",
      "metadata": {
        "id": "zvxAbMqEAWoa",
        "colab_type": "text"
      },
      "source": [
        "## Fix Typos"
      ]
    },
    {
      "cell_type": "code",
      "metadata": {
        "id": "SzPQwIUrAWob",
        "colab_type": "code",
        "colab": {}
      },
      "source": [
        "#Fix \"3329_2017\" typo\n",
        "reports['File_Name'] = reports['File_Name'].str.replace('3329_2017 Detail Budget Report (with 2015 actuals)', '3329_2017 Detail Budget Report (with 2016 actuals)', regex = False)\n",
        "\n",
        "#Fix \"2135_2011\" typo\n",
        "reports['File_Name'] = reports['File_Name'].str.replace('2135_2011_and_2013', '2135_2011_and_2012', regex = False)\n",
        "reports['File_Name'] = reports['File_Name'].str.replace('2135_2011_and_2014', '2135_2011_and_2012', regex = False)\n",
        "\n",
        "#Fix \"3732_2006\" typo\n",
        "reports['File_Name'] = reports['File_Name'].str.replace('3732_2006-2009', '3732_2006-2008', regex = False)\n",
        "reports['File_Name'] = reports['File_Name'].str.replace('3732_2006-2010', '3732_2006-2008', regex = False)\n",
        "\n",
        "#Fix \"5335_March 2016\" typo\n",
        "reports['File_Name'] = reports['File_Name'].str.replace('5335_March 2016', '5335_March 2015', regex = False)\n",
        "\n",
        "#Add .pdf if necessary\n",
        "for i, x in reports.iterrows():\n",
        "    if x[\"File_Name\"].endswith(\".pdf\") != True:\n",
        "        reports[\"File_Name\"][i] = str(x[\"File_Name\"]) + \".pdf\""
      ],
      "execution_count": 0,
      "outputs": []
    },
    {
      "cell_type": "markdown",
      "metadata": {
        "id": "XcTq4glKAWod",
        "colab_type": "text"
      },
      "source": [
        "## Access files"
      ]
    },
    {
      "cell_type": "code",
      "metadata": {
        "id": "i1NOmsxbAWod",
        "colab_type": "code",
        "outputId": "6db3ff6f-fcda-46a1-dfb5-c4ef12e5653b",
        "colab": {
          "base_uri": "https://localhost:8080/",
          "height": 122
        }
      },
      "source": [
        "# Load the Drive helper and mount\n",
        "from google.colab import drive\n",
        "\n",
        "# This will prompt for authorization\n",
        "drive.mount('/content/drive')"
      ],
      "execution_count": 8,
      "outputs": [
        {
          "output_type": "stream",
          "text": [
            "Go to this URL in a browser: https://accounts.google.com/o/oauth2/auth?client_id=947318989803-6bn6qk8qdgf4n4g3pfee6491hc0brc4i.apps.googleusercontent.com&redirect_uri=urn%3Aietf%3Awg%3Aoauth%3A2.0%3Aoob&scope=email%20https%3A%2F%2Fwww.googleapis.com%2Fauth%2Fdocs.test%20https%3A%2F%2Fwww.googleapis.com%2Fauth%2Fdrive%20https%3A%2F%2Fwww.googleapis.com%2Fauth%2Fdrive.photos.readonly%20https%3A%2F%2Fwww.googleapis.com%2Fauth%2Fpeopleapi.readonly&response_type=code\n",
            "\n",
            "Enter your authorization code:\n",
            "··········\n",
            "Mounted at /content/drive\n"
          ],
          "name": "stdout"
        }
      ]
    },
    {
      "cell_type": "code",
      "metadata": {
        "id": "FAPnB_oYkbIc",
        "colab_type": "code",
        "colab": {}
      },
      "source": [
        "reports['Path'] = [os.path.abspath('../%s/%s/%s/%s/%s/%s/%s/%s/%s' %('content', 'drive','My Drive', 'Work', 'Fall19', 'URAP', 'URAP_Data_Digitization','All_Muni_Docs_Searchable',row['State'])) for i, row in reports.iterrows()]"
      ],
      "execution_count": 0,
      "outputs": []
    },
    {
      "cell_type": "code",
      "metadata": {
        "id": "OS-chmKYM8w9",
        "colab_type": "code",
        "outputId": "6c12cddf-ec60-4c86-e876-2e8712045ab3",
        "colab": {
          "base_uri": "https://localhost:8080/",
          "height": 391
        }
      },
      "source": [
        "reports.head()"
      ],
      "execution_count": 17,
      "outputs": [
        {
          "output_type": "execute_result",
          "data": {
            "text/html": [
              "<div>\n",
              "<style scoped>\n",
              "    .dataframe tbody tr th:only-of-type {\n",
              "        vertical-align: middle;\n",
              "    }\n",
              "\n",
              "    .dataframe tbody tr th {\n",
              "        vertical-align: top;\n",
              "    }\n",
              "\n",
              "    .dataframe thead th {\n",
              "        text-align: right;\n",
              "    }\n",
              "</style>\n",
              "<table border=\"1\" class=\"dataframe\">\n",
              "  <thead>\n",
              "    <tr style=\"text-align: right;\">\n",
              "      <th></th>\n",
              "      <th>File_Name</th>\n",
              "      <th>State</th>\n",
              "      <th>Page_Index</th>\n",
              "      <th>Report Type</th>\n",
              "      <th>Category</th>\n",
              "      <th>Path</th>\n",
              "    </tr>\n",
              "  </thead>\n",
              "  <tbody>\n",
              "    <tr>\n",
              "      <th>0</th>\n",
              "      <td>8435_FY_2017.pdf</td>\n",
              "      <td>TX</td>\n",
              "      <td>67</td>\n",
              "      <td>Govt Financial Report</td>\n",
              "      <td>Operating Revenues and Expenses by Fund</td>\n",
              "      <td>/content/drive/My Drive/Work/Fall19/URAP/URAP_...</td>\n",
              "    </tr>\n",
              "    <tr>\n",
              "      <th>1</th>\n",
              "      <td>8435_FY_2017.pdf</td>\n",
              "      <td>TX</td>\n",
              "      <td>42</td>\n",
              "      <td>Govt Financial Report</td>\n",
              "      <td>Depreciation Details</td>\n",
              "      <td>/content/drive/My Drive/Work/Fall19/URAP/URAP_...</td>\n",
              "    </tr>\n",
              "    <tr>\n",
              "      <th>2</th>\n",
              "      <td>7129_FY_2008.pdf</td>\n",
              "      <td>TX</td>\n",
              "      <td>44</td>\n",
              "      <td>Govt Financial Report</td>\n",
              "      <td>Operating Revenues and Expenses by Fund</td>\n",
              "      <td>/content/drive/My Drive/Work/Fall19/URAP/URAP_...</td>\n",
              "    </tr>\n",
              "    <tr>\n",
              "      <th>3</th>\n",
              "      <td>7129_FY_2008.pdf</td>\n",
              "      <td>TX</td>\n",
              "      <td>45</td>\n",
              "      <td>Govt Financial Report</td>\n",
              "      <td>Statement of Cash Flow by Fund</td>\n",
              "      <td>/content/drive/My Drive/Work/Fall19/URAP/URAP_...</td>\n",
              "    </tr>\n",
              "    <tr>\n",
              "      <th>4</th>\n",
              "      <td>7129_FY_2008.pdf</td>\n",
              "      <td>TX</td>\n",
              "      <td>46</td>\n",
              "      <td>Govt Financial Report</td>\n",
              "      <td>Statement of Cash Flow by Fund</td>\n",
              "      <td>/content/drive/My Drive/Work/Fall19/URAP/URAP_...</td>\n",
              "    </tr>\n",
              "  </tbody>\n",
              "</table>\n",
              "</div>"
            ],
            "text/plain": [
              "          File_Name  ...                                               Path\n",
              "0  8435_FY_2017.pdf  ...  /content/drive/My Drive/Work/Fall19/URAP/URAP_...\n",
              "1  8435_FY_2017.pdf  ...  /content/drive/My Drive/Work/Fall19/URAP/URAP_...\n",
              "2  7129_FY_2008.pdf  ...  /content/drive/My Drive/Work/Fall19/URAP/URAP_...\n",
              "3  7129_FY_2008.pdf  ...  /content/drive/My Drive/Work/Fall19/URAP/URAP_...\n",
              "4  7129_FY_2008.pdf  ...  /content/drive/My Drive/Work/Fall19/URAP/URAP_...\n",
              "\n",
              "[5 rows x 6 columns]"
            ]
          },
          "metadata": {
            "tags": []
          },
          "execution_count": 17
        }
      ]
    },
    {
      "cell_type": "code",
      "metadata": {
        "id": "VTgNG7c_uIF7",
        "colab_type": "code",
        "colab": {}
      },
      "source": [
        "#check if the ab_path really exists\n",
        "for ab_path in reports['Path']:\n",
        "    if os.path.exists(ab_path) != True:\n",
        "        print(ab_path)   "
      ],
      "execution_count": 0,
      "outputs": []
    },
    {
      "cell_type": "code",
      "metadata": {
        "id": "PwECLrvaAWof",
        "colab_type": "code",
        "outputId": "f2189236-32c3-40a8-9fcd-b9ffc2b2a590",
        "colab": {
          "base_uri": "https://localhost:8080/",
          "height": 776
        }
      },
      "source": [
        "display(reports)"
      ],
      "execution_count": 19,
      "outputs": [
        {
          "output_type": "display_data",
          "data": {
            "text/html": [
              "<div>\n",
              "<style scoped>\n",
              "    .dataframe tbody tr th:only-of-type {\n",
              "        vertical-align: middle;\n",
              "    }\n",
              "\n",
              "    .dataframe tbody tr th {\n",
              "        vertical-align: top;\n",
              "    }\n",
              "\n",
              "    .dataframe thead th {\n",
              "        text-align: right;\n",
              "    }\n",
              "</style>\n",
              "<table border=\"1\" class=\"dataframe\">\n",
              "  <thead>\n",
              "    <tr style=\"text-align: right;\">\n",
              "      <th></th>\n",
              "      <th>File_Name</th>\n",
              "      <th>State</th>\n",
              "      <th>Page_Index</th>\n",
              "      <th>Report Type</th>\n",
              "      <th>Category</th>\n",
              "      <th>Path</th>\n",
              "    </tr>\n",
              "  </thead>\n",
              "  <tbody>\n",
              "    <tr>\n",
              "      <th>0</th>\n",
              "      <td>8435_FY_2017.pdf</td>\n",
              "      <td>TX</td>\n",
              "      <td>67</td>\n",
              "      <td>Govt Financial Report</td>\n",
              "      <td>Operating Revenues and Expenses by Fund</td>\n",
              "      <td>/content/drive/My Drive/Work/Fall19/URAP/URAP_...</td>\n",
              "    </tr>\n",
              "    <tr>\n",
              "      <th>1</th>\n",
              "      <td>8435_FY_2017.pdf</td>\n",
              "      <td>TX</td>\n",
              "      <td>42</td>\n",
              "      <td>Govt Financial Report</td>\n",
              "      <td>Depreciation Details</td>\n",
              "      <td>/content/drive/My Drive/Work/Fall19/URAP/URAP_...</td>\n",
              "    </tr>\n",
              "    <tr>\n",
              "      <th>2</th>\n",
              "      <td>7129_FY_2008.pdf</td>\n",
              "      <td>TX</td>\n",
              "      <td>44</td>\n",
              "      <td>Govt Financial Report</td>\n",
              "      <td>Operating Revenues and Expenses by Fund</td>\n",
              "      <td>/content/drive/My Drive/Work/Fall19/URAP/URAP_...</td>\n",
              "    </tr>\n",
              "    <tr>\n",
              "      <th>3</th>\n",
              "      <td>7129_FY_2008.pdf</td>\n",
              "      <td>TX</td>\n",
              "      <td>45</td>\n",
              "      <td>Govt Financial Report</td>\n",
              "      <td>Statement of Cash Flow by Fund</td>\n",
              "      <td>/content/drive/My Drive/Work/Fall19/URAP/URAP_...</td>\n",
              "    </tr>\n",
              "    <tr>\n",
              "      <th>4</th>\n",
              "      <td>7129_FY_2008.pdf</td>\n",
              "      <td>TX</td>\n",
              "      <td>46</td>\n",
              "      <td>Govt Financial Report</td>\n",
              "      <td>Statement of Cash Flow by Fund</td>\n",
              "      <td>/content/drive/My Drive/Work/Fall19/URAP/URAP_...</td>\n",
              "    </tr>\n",
              "    <tr>\n",
              "      <th>...</th>\n",
              "      <td>...</td>\n",
              "      <td>...</td>\n",
              "      <td>...</td>\n",
              "      <td>...</td>\n",
              "      <td>...</td>\n",
              "      <td>...</td>\n",
              "    </tr>\n",
              "    <tr>\n",
              "      <th>695</th>\n",
              "      <td>12473_2007.pdf</td>\n",
              "      <td>MA</td>\n",
              "      <td>28</td>\n",
              "      <td>Electric Only Report</td>\n",
              "      <td>Revenue by Class</td>\n",
              "      <td>/content/drive/My Drive/Work/Fall19/URAP/URAP_...</td>\n",
              "    </tr>\n",
              "    <tr>\n",
              "      <th>696</th>\n",
              "      <td>12473_2007.pdf</td>\n",
              "      <td>MA</td>\n",
              "      <td>26</td>\n",
              "      <td>Electric Only Report</td>\n",
              "      <td>In Lieu of Taxes</td>\n",
              "      <td>/content/drive/My Drive/Work/Fall19/URAP/URAP_...</td>\n",
              "    </tr>\n",
              "    <tr>\n",
              "      <th>697</th>\n",
              "      <td>12473_2007.pdf</td>\n",
              "      <td>MA</td>\n",
              "      <td>20</td>\n",
              "      <td>Electric Only Report</td>\n",
              "      <td>Cost of Utility Plant and Accumulated Deprecia...</td>\n",
              "      <td>/content/drive/My Drive/Work/Fall19/URAP/URAP_...</td>\n",
              "    </tr>\n",
              "    <tr>\n",
              "      <th>698</th>\n",
              "      <td>12473_2007.pdf</td>\n",
              "      <td>MA</td>\n",
              "      <td>21</td>\n",
              "      <td>Electric Only Report</td>\n",
              "      <td>Cost of Utility Plant and Accumulated Deprecia...</td>\n",
              "      <td>/content/drive/My Drive/Work/Fall19/URAP/URAP_...</td>\n",
              "    </tr>\n",
              "    <tr>\n",
              "      <th>699</th>\n",
              "      <td>12473_2007.pdf</td>\n",
              "      <td>MA</td>\n",
              "      <td>22</td>\n",
              "      <td>Electric Only Report</td>\n",
              "      <td>Cost of Utility Plant and Accumulated Deprecia...</td>\n",
              "      <td>/content/drive/My Drive/Work/Fall19/URAP/URAP_...</td>\n",
              "    </tr>\n",
              "  </tbody>\n",
              "</table>\n",
              "<p>693 rows × 6 columns</p>\n",
              "</div>"
            ],
            "text/plain": [
              "            File_Name  ...                                               Path\n",
              "0    8435_FY_2017.pdf  ...  /content/drive/My Drive/Work/Fall19/URAP/URAP_...\n",
              "1    8435_FY_2017.pdf  ...  /content/drive/My Drive/Work/Fall19/URAP/URAP_...\n",
              "2    7129_FY_2008.pdf  ...  /content/drive/My Drive/Work/Fall19/URAP/URAP_...\n",
              "3    7129_FY_2008.pdf  ...  /content/drive/My Drive/Work/Fall19/URAP/URAP_...\n",
              "4    7129_FY_2008.pdf  ...  /content/drive/My Drive/Work/Fall19/URAP/URAP_...\n",
              "..                ...  ...                                                ...\n",
              "695    12473_2007.pdf  ...  /content/drive/My Drive/Work/Fall19/URAP/URAP_...\n",
              "696    12473_2007.pdf  ...  /content/drive/My Drive/Work/Fall19/URAP/URAP_...\n",
              "697    12473_2007.pdf  ...  /content/drive/My Drive/Work/Fall19/URAP/URAP_...\n",
              "698    12473_2007.pdf  ...  /content/drive/My Drive/Work/Fall19/URAP/URAP_...\n",
              "699    12473_2007.pdf  ...  /content/drive/My Drive/Work/Fall19/URAP/URAP_...\n",
              "\n",
              "[693 rows x 6 columns]"
            ]
          },
          "metadata": {
            "tags": []
          }
        }
      ]
    },
    {
      "cell_type": "code",
      "metadata": {
        "id": "93BRWdHPx6Xy",
        "colab_type": "code",
        "colab": {}
      },
      "source": [
        "# Define a function that extracts texts from a pdf file based on the filename and page number provided. \n",
        "def extract(fname, page):\n",
        "    try:\n",
        "        pdfFileObj = open(fname,'rb')\n",
        "        pdfReader = PdfFileReader(pdfFileObj)\n",
        "        pageObj = pdfReader.getPage(page-1)\n",
        "        return pageObj.extractText()\n",
        "    except:\n",
        "        print(fname, page)"
      ],
      "execution_count": 0,
      "outputs": []
    },
    {
      "cell_type": "code",
      "metadata": {
        "id": "TEE5AKF1zK3v",
        "colab_type": "code",
        "colab": {}
      },
      "source": [
        "reports['Content'] = [extract(row['Path'] + '/' + row['File_Name'], row['Page_Index']) for i, row in reports.iterrows()]"
      ],
      "execution_count": 0,
      "outputs": []
    },
    {
      "cell_type": "markdown",
      "metadata": {
        "id": "p9yoE68GAWoh",
        "colab_type": "text"
      },
      "source": [
        "# First Filter(Model) Construction"
      ]
    },
    {
      "cell_type": "markdown",
      "metadata": {
        "id": "gfnJhvMpAWoi",
        "colab_type": "text"
      },
      "source": [
        "## Find Different Report Types"
      ]
    },
    {
      "cell_type": "code",
      "metadata": {
        "id": "ZCQTzBa4AWoj",
        "colab_type": "code",
        "colab": {}
      },
      "source": [
        "f1_reports = reports.copy()\n",
        "f1_reports = f1_reports.rename({'Report Type': 'report_type'}, axis = 'columns')\n",
        "f1_reports = f1_reports[pd.notnull(f1_reports['Content'])]\n",
        "f1_reports['report_id'] = f1_reports['report_type'].factorize()[0]\n",
        "f1_reports_id_df = f1_reports[['report_type', 'report_id']].drop_duplicates().sort_values('report_id')\n",
        "f1_reports_to_id = dict(f1_reports_id_df.values)\n",
        "id_to_f1_reports = dict(f1_reports_id_df[['report_id', 'report_type']].values)"
      ],
      "execution_count": 0,
      "outputs": []
    },
    {
      "cell_type": "code",
      "metadata": {
        "id": "uHhUvE78AWom",
        "colab_type": "code",
        "outputId": "4097b6fa-83cd-4021-ad77-b171db11c841",
        "colab": {
          "base_uri": "https://localhost:8080/",
          "height": 547
        }
      },
      "source": [
        "f1_reports.head()"
      ],
      "execution_count": 53,
      "outputs": [
        {
          "output_type": "execute_result",
          "data": {
            "text/html": [
              "<div>\n",
              "<style scoped>\n",
              "    .dataframe tbody tr th:only-of-type {\n",
              "        vertical-align: middle;\n",
              "    }\n",
              "\n",
              "    .dataframe tbody tr th {\n",
              "        vertical-align: top;\n",
              "    }\n",
              "\n",
              "    .dataframe thead th {\n",
              "        text-align: right;\n",
              "    }\n",
              "</style>\n",
              "<table border=\"1\" class=\"dataframe\">\n",
              "  <thead>\n",
              "    <tr style=\"text-align: right;\">\n",
              "      <th></th>\n",
              "      <th>File_Name</th>\n",
              "      <th>State</th>\n",
              "      <th>Page_Index</th>\n",
              "      <th>report_type</th>\n",
              "      <th>Category</th>\n",
              "      <th>Path</th>\n",
              "      <th>Content</th>\n",
              "      <th>report_id</th>\n",
              "    </tr>\n",
              "  </thead>\n",
              "  <tbody>\n",
              "    <tr>\n",
              "      <th>0</th>\n",
              "      <td>8435_FY_2017.pdf</td>\n",
              "      <td>TX</td>\n",
              "      <td>67</td>\n",
              "      <td>Govt Financial Report</td>\n",
              "      <td>Operating Revenues and Expenses by Fund</td>\n",
              "      <td>/content/drive/My Drive/Work/Fall19/URAP/URAP_...</td>\n",
              "      <td>City of Hempstead, Texas \\nSchedule of Revenue...</td>\n",
              "      <td>0</td>\n",
              "    </tr>\n",
              "    <tr>\n",
              "      <th>1</th>\n",
              "      <td>8435_FY_2017.pdf</td>\n",
              "      <td>TX</td>\n",
              "      <td>42</td>\n",
              "      <td>Govt Financial Report</td>\n",
              "      <td>Depreciation Details</td>\n",
              "      <td>/content/drive/My Drive/Work/Fall19/URAP/URAP_...</td>\n",
              "      <td>City of Hempstead, Texas \\nNotes to the Financ...</td>\n",
              "      <td>0</td>\n",
              "    </tr>\n",
              "    <tr>\n",
              "      <th>2</th>\n",
              "      <td>7129_FY_2008.pdf</td>\n",
              "      <td>TX</td>\n",
              "      <td>44</td>\n",
              "      <td>Govt Financial Report</td>\n",
              "      <td>Operating Revenues and Expenses by Fund</td>\n",
              "      <td>/content/drive/My Drive/Work/Fall19/URAP/URAP_...</td>\n",
              "      <td>CITY OF GEORGETOWN, TEXAS \\nSTATEMENT OF REVEN...</td>\n",
              "      <td>0</td>\n",
              "    </tr>\n",
              "    <tr>\n",
              "      <th>3</th>\n",
              "      <td>7129_FY_2008.pdf</td>\n",
              "      <td>TX</td>\n",
              "      <td>45</td>\n",
              "      <td>Govt Financial Report</td>\n",
              "      <td>Statement of Cash Flow by Fund</td>\n",
              "      <td>/content/drive/My Drive/Work/Fall19/URAP/URAP_...</td>\n",
              "      <td>CITY OF GEORGETOWN, TEXAS \\nSTATEMENT OF CASH ...</td>\n",
              "      <td>0</td>\n",
              "    </tr>\n",
              "    <tr>\n",
              "      <th>4</th>\n",
              "      <td>7129_FY_2008.pdf</td>\n",
              "      <td>TX</td>\n",
              "      <td>46</td>\n",
              "      <td>Govt Financial Report</td>\n",
              "      <td>Statement of Cash Flow by Fund</td>\n",
              "      <td>/content/drive/My Drive/Work/Fall19/URAP/URAP_...</td>\n",
              "      <td>CITY OF GEORGETOWN, TEXAS \\nSTATEMENT OF CASH ...</td>\n",
              "      <td>0</td>\n",
              "    </tr>\n",
              "  </tbody>\n",
              "</table>\n",
              "</div>"
            ],
            "text/plain": [
              "          File_Name  ... report_id\n",
              "0  8435_FY_2017.pdf  ...         0\n",
              "1  8435_FY_2017.pdf  ...         0\n",
              "2  7129_FY_2008.pdf  ...         0\n",
              "3  7129_FY_2008.pdf  ...         0\n",
              "4  7129_FY_2008.pdf  ...         0\n",
              "\n",
              "[5 rows x 8 columns]"
            ]
          },
          "metadata": {
            "tags": []
          },
          "execution_count": 53
        }
      ]
    },
    {
      "cell_type": "markdown",
      "metadata": {
        "id": "BAEcdH52AWoo",
        "colab_type": "text"
      },
      "source": [
        "## Preprocessing (Clean Up Texts)"
      ]
    },
    {
      "cell_type": "code",
      "metadata": {
        "id": "-w1ubAlMAWoo",
        "colab_type": "code",
        "colab": {}
      },
      "source": [
        "f1_reports = f1_reports[['report_type', 'Content', 'report_id']]\n",
        "import re \n",
        "import string\n",
        "#Extract feature: number of rows\n",
        "f1_reports['num_rows'] = f1_reports['Content'].str.count('\\n')\n",
        "f1_reports['Content'].replace(r'\\s+|\\\\n', ' ', regex=True, inplace=True)\n",
        "#Extract feature: number of numeric values\n",
        "def num_numbers(text):\n",
        "    temp = re.findall(r'\\d+', text)\n",
        "    return len(list(map(int, temp)))\n",
        "f1_reports['num_numbers'] = f1_reports['Content'].apply(num_numbers)\n",
        "f1_reports['Content'].replace(r'\\d+', '', regex=True, inplace=True)\n",
        "#Data cleaning: remove punctuations\n",
        "def remove_punctuations(text):\n",
        "    for punctuation in string.punctuation:\n",
        "        text = text.replace(punctuation, '')\n",
        "    return text\n",
        "f1_reports['Content'] = f1_reports['Content'].apply(remove_punctuations)"
      ],
      "execution_count": 0,
      "outputs": []
    },
    {
      "cell_type": "markdown",
      "metadata": {
        "id": "YW9mvZQ5AWot",
        "colab_type": "text"
      },
      "source": [
        "## TF-IDF"
      ]
    },
    {
      "cell_type": "code",
      "metadata": {
        "id": "zLGZjyg2AWou",
        "colab_type": "code",
        "outputId": "d1d6de67-28e7-4bef-faf6-e5aa82f8a5b3",
        "colab": {
          "base_uri": "https://localhost:8080/",
          "height": 34
        }
      },
      "source": [
        "# Convert texts to vectors\n",
        "tfidf = TfidfVectorizer(sublinear_tf=True, min_df=5, norm='l2', encoding='latin-1', ngram_range=(1, 2), stop_words='english')\n",
        "features = tfidf.fit_transform(reports.Content).toarray()\n",
        "labels = f1_reports.report_type\n",
        "features.shape"
      ],
      "execution_count": 55,
      "outputs": [
        {
          "output_type": "execute_result",
          "data": {
            "text/plain": [
              "(693, 6790)"
            ]
          },
          "metadata": {
            "tags": []
          },
          "execution_count": 55
        }
      ]
    },
    {
      "cell_type": "markdown",
      "metadata": {
        "id": "ljcHc5ueAWov",
        "colab_type": "text"
      },
      "source": [
        "## Oversample Minorities"
      ]
    },
    {
      "cell_type": "code",
      "metadata": {
        "id": "JB_FZgirAWow",
        "colab_type": "code",
        "outputId": "0e964c21-0b18-4b09-b09c-f28b0c5f6312",
        "colab": {
          "base_uri": "https://localhost:8080/",
          "height": 34
        }
      },
      "source": [
        "# Try SMOTE to oversample the reports.\n",
        "from imblearn.over_sampling import SMOTE\n",
        "sm = SMOTE(sampling_strategy='minority', random_state=7)\n",
        "sm_X, sm_Y = sm.fit_sample(features ,labels)\n",
        "sm_X.shape"
      ],
      "execution_count": 56,
      "outputs": [
        {
          "output_type": "execute_result",
          "data": {
            "text/plain": [
              "(1188, 6790)"
            ]
          },
          "metadata": {
            "tags": []
          },
          "execution_count": 56
        }
      ]
    },
    {
      "cell_type": "markdown",
      "metadata": {
        "id": "sLE5JKLEAWoy",
        "colab_type": "text"
      },
      "source": [
        "## Model Selection By Cross-Validation"
      ]
    },
    {
      "cell_type": "code",
      "metadata": {
        "id": "4RHWXyfEAWoy",
        "colab_type": "code",
        "outputId": "5cfa5295-d414-4636-aed1-cf10e3523249",
        "colab": {
          "base_uri": "https://localhost:8080/",
          "height": 280
        }
      },
      "source": [
        "import warnings\n",
        "import matplotlib.pyplot as plt\n",
        "from sklearn.linear_model import LogisticRegression\n",
        "from sklearn.ensemble import RandomForestClassifier\n",
        "from sklearn.svm import LinearSVC\n",
        "from sklearn.model_selection import cross_val_score\n",
        "from sklearn.naive_bayes import MultinomialNB\n",
        "import seaborn as sns\n",
        "from sklearn.model_selection import train_test_split\n",
        "\n",
        "## Split the data into training and testing data\n",
        "sm_X_train_1, sm_X_test_1, sm_Y_train_1, sm_Y_test_1 = train_test_split(sm_X, sm_Y, test_size=0.2, random_state=47)\n",
        "\n",
        "## Perform cross-validation only on the training data\n",
        "warnings.simplefilter(\"ignore\")\n",
        "models = [\n",
        "    RandomForestClassifier(n_estimators=200, max_depth=3, random_state=0),\n",
        "    LinearSVC(),\n",
        "    MultinomialNB(),\n",
        "    LogisticRegression(random_state=0),\n",
        "]\n",
        "CV = 5\n",
        "cv_df = pd.DataFrame(index=range(CV * len(models)))\n",
        "entries = []\n",
        "for model in models:\n",
        "    model_name = model.__class__.__name__\n",
        "    accuracies = cross_val_score(model, sm_X_train_1, sm_Y_train_1, scoring='accuracy', cv=CV)\n",
        "    for fold_idx, accuracy in enumerate(accuracies):\n",
        "        entries.append((model_name, fold_idx, accuracy))\n",
        "    cv_df = pd.DataFrame(entries, columns=['model_name', 'fold_idx', 'accuracy'])\n",
        "    \n",
        "sns.boxplot(x='model_name', y='accuracy', data=cv_df)\n",
        "sns.stripplot(x='model_name', y='accuracy', data=cv_df, \n",
        "              size=8, jitter=True, edgecolor=\"gray\", linewidth=2)\n",
        "plt.show()"
      ],
      "execution_count": 57,
      "outputs": [
        {
          "output_type": "display_data",
          "data": {
            "image/png": "[encoded data removed]",
            "text/plain": [
              "<Figure size 432x288 with 1 Axes>"
            ]
          },
          "metadata": {
            "tags": []
          }
        }
      ]
    },
    {
      "cell_type": "code",
      "metadata": {
        "id": "IxOrsHqRAWo0",
        "colab_type": "code",
        "outputId": "e21f996b-fc54-4fe5-9043-a0ea5e66ca3d",
        "colab": {
          "base_uri": "https://localhost:8080/",
          "height": 119
        }
      },
      "source": [
        "cv_df.groupby('model_name').accuracy.mean()"
      ],
      "execution_count": 58,
      "outputs": [
        {
          "output_type": "execute_result",
          "data": {
            "text/plain": [
              "model_name\n",
              "LinearSVC                 0.988443\n",
              "LogisticRegression        0.968431\n",
              "MultinomialNB             0.958923\n",
              "RandomForestClassifier    0.916811\n",
              "Name: accuracy, dtype: float64"
            ]
          },
          "metadata": {
            "tags": []
          },
          "execution_count": 58
        }
      ]
    },
    {
      "cell_type": "markdown",
      "metadata": {
        "id": "S9nMDV62AWo3",
        "colab_type": "text"
      },
      "source": [
        "## Build filter_1 and test its performance"
      ]
    },
    {
      "cell_type": "code",
      "metadata": {
        "id": "DsDLKWS2AWo4",
        "colab_type": "code",
        "outputId": "e260171b-8f22-4634-fa57-8c5c69125d6b",
        "colab": {
          "base_uri": "https://localhost:8080/",
          "height": 187
        }
      },
      "source": [
        "filter_1 = LinearSVC()\n",
        "filter_1.fit(sm_X_train_1,sm_Y_train_1)\n",
        "print(sklearn.metrics.classification_report(sm_Y_test_1, filter_1.predict(sm_X_test_1)))"
      ],
      "execution_count": 59,
      "outputs": [
        {
          "output_type": "stream",
          "text": [
            "                       precision    recall  f1-score   support\n",
            "\n",
            "               Budget       1.00      1.00      1.00       104\n",
            " Electric Only Report       0.97      1.00      0.99       113\n",
            "Govt Financial Report       1.00      0.86      0.92        21\n",
            "\n",
            "             accuracy                           0.99       238\n",
            "            macro avg       0.99      0.95      0.97       238\n",
            "         weighted avg       0.99      0.99      0.99       238\n",
            "\n"
          ],
          "name": "stdout"
        }
      ]
    },
    {
      "cell_type": "markdown",
      "metadata": {
        "id": "ZimC6_BNAWo7",
        "colab_type": "text"
      },
      "source": [
        "# Build A Dataframe Of All Pages Of All Files"
      ]
    },
    {
      "cell_type": "code",
      "metadata": {
        "id": "RWbvY8PeAWo7",
        "colab_type": "code",
        "colab": {}
      },
      "source": [
        "import os\n",
        "root_path = \"/content/drive/My Drive/Work/Fall19/URAP/URAP_Data_Digitization/All_Muni_Docs_Searchable\"\n",
        "\n",
        "List = []\n",
        "for state in os.listdir(root_path):\n",
        "    if str(state) == 'Code' or str(state) == '.DS_Store':\n",
        "        continue\n",
        "    else:\n",
        "        state_dir = os.path.join(root_path, state)\n",
        "        for filename in os.listdir(state_dir):\n",
        "            file_path = os.path.join(state_dir, filename)\n",
        "            try:\n",
        "                pdf = PdfFileReader(open(file_path, 'rb'))\n",
        "            except:\n",
        "                print(filename)\n",
        "                continue\n",
        "            number_pages = pdf.getNumPages()\n",
        "            for i in range(1, number_pages+1):\n",
        "                dic = {'File_Name': filename, 'State':state,'Page_Index':i,'Path': file_path}\n",
        "                List.append(dic)\n",
        "all_pages = pd.DataFrame(List)"
      ],
      "execution_count": 0,
      "outputs": []
    },
    {
      "cell_type": "code",
      "metadata": {
        "id": "XoQ_9Eh7AWo-",
        "colab_type": "code",
        "outputId": "4a9e8149-b135-4d24-f562-eb467038ed4d",
        "colab": {
          "base_uri": "https://localhost:8080/",
          "height": 204
        }
      },
      "source": [
        "all_pages.head()"
      ],
      "execution_count": 0,
      "outputs": [
        {
          "output_type": "execute_result",
          "data": {
            "text/html": [
              "<div>\n",
              "<style scoped>\n",
              "    .dataframe tbody tr th:only-of-type {\n",
              "        vertical-align: middle;\n",
              "    }\n",
              "\n",
              "    .dataframe tbody tr th {\n",
              "        vertical-align: top;\n",
              "    }\n",
              "\n",
              "    .dataframe thead th {\n",
              "        text-align: right;\n",
              "    }\n",
              "</style>\n",
              "<table border=\"1\" class=\"dataframe\">\n",
              "  <thead>\n",
              "    <tr style=\"text-align: right;\">\n",
              "      <th></th>\n",
              "      <th>File_Name</th>\n",
              "      <th>State</th>\n",
              "      <th>Page_Index</th>\n",
              "      <th>Path</th>\n",
              "    </tr>\n",
              "  </thead>\n",
              "  <tbody>\n",
              "    <tr>\n",
              "      <th>0</th>\n",
              "      <td>122_FY_2005.pdf</td>\n",
              "      <td>NY</td>\n",
              "      <td>1</td>\n",
              "      <td>/content/drive/My Drive/Work/Fall19/URAP/URAP_...</td>\n",
              "    </tr>\n",
              "    <tr>\n",
              "      <th>1</th>\n",
              "      <td>122_FY_2005.pdf</td>\n",
              "      <td>NY</td>\n",
              "      <td>2</td>\n",
              "      <td>/content/drive/My Drive/Work/Fall19/URAP/URAP_...</td>\n",
              "    </tr>\n",
              "    <tr>\n",
              "      <th>2</th>\n",
              "      <td>122_FY_2005.pdf</td>\n",
              "      <td>NY</td>\n",
              "      <td>3</td>\n",
              "      <td>/content/drive/My Drive/Work/Fall19/URAP/URAP_...</td>\n",
              "    </tr>\n",
              "    <tr>\n",
              "      <th>3</th>\n",
              "      <td>122_FY_2005.pdf</td>\n",
              "      <td>NY</td>\n",
              "      <td>4</td>\n",
              "      <td>/content/drive/My Drive/Work/Fall19/URAP/URAP_...</td>\n",
              "    </tr>\n",
              "    <tr>\n",
              "      <th>4</th>\n",
              "      <td>122_FY_2005.pdf</td>\n",
              "      <td>NY</td>\n",
              "      <td>5</td>\n",
              "      <td>/content/drive/My Drive/Work/Fall19/URAP/URAP_...</td>\n",
              "    </tr>\n",
              "  </tbody>\n",
              "</table>\n",
              "</div>"
            ],
            "text/plain": [
              "         File_Name  ...                                               Path\n",
              "0  122_FY_2005.pdf  ...  /content/drive/My Drive/Work/Fall19/URAP/URAP_...\n",
              "1  122_FY_2005.pdf  ...  /content/drive/My Drive/Work/Fall19/URAP/URAP_...\n",
              "2  122_FY_2005.pdf  ...  /content/drive/My Drive/Work/Fall19/URAP/URAP_...\n",
              "3  122_FY_2005.pdf  ...  /content/drive/My Drive/Work/Fall19/URAP/URAP_...\n",
              "4  122_FY_2005.pdf  ...  /content/drive/My Drive/Work/Fall19/URAP/URAP_...\n",
              "\n",
              "[5 rows x 4 columns]"
            ]
          },
          "metadata": {
            "tags": []
          },
          "execution_count": 114
        }
      ]
    },
    {
      "cell_type": "markdown",
      "metadata": {
        "id": "pIxoBNV1AWpA",
        "colab_type": "text"
      },
      "source": [
        "# Category Classifier"
      ]
    },
    {
      "cell_type": "markdown",
      "metadata": {
        "id": "FVYTLg2FAWpA",
        "colab_type": "text"
      },
      "source": [
        "## Create An Another Copy Of The Reports DataSet"
      ]
    },
    {
      "cell_type": "code",
      "metadata": {
        "id": "U4m8CMG5AWpD",
        "colab_type": "code",
        "colab": {}
      },
      "source": [
        "f2_reports = reports.copy()\n",
        "f2_reports['Category'] = f2_reports['Category'].astype(str)\n",
        "f2_reports['label'] = f2_reports['Category'].factorize()[0]\n",
        "category_counts = f2_reports['Category'].value_counts()\n",
        "f2_reports['Content'] = [extract(row['Path'] + '/' + row['File_Name'], row['Page_Index']) for i, row in f2_reports.iterrows()]"
      ],
      "execution_count": 0,
      "outputs": []
    },
    {
      "cell_type": "code",
      "metadata": {
        "id": "Q-KaSOpKAWpE",
        "colab_type": "code",
        "colab": {}
      },
      "source": [
        "f2_reports = f2_reports[f2_reports['Content'].isnull() == False]"
      ],
      "execution_count": 0,
      "outputs": []
    },
    {
      "cell_type": "code",
      "metadata": {
        "id": "Fx8cb0fkAWpG",
        "colab_type": "code",
        "colab": {}
      },
      "source": [
        "# Clean up contents\n",
        "\n",
        "f2_reports['Content'].replace(r'\\d+', '', regex=True, inplace=True)\n",
        "f2_reports['Content'] = f2_reports['Content'].apply(remove_punctuations)\n",
        "f2_reports['Content'].replace(r'\\s+|\\\\n', ' ', regex=True, inplace=True)\n",
        "f2_reports['Content'] = f2_reports['Content'].str.lower()"
      ],
      "execution_count": 0,
      "outputs": []
    },
    {
      "cell_type": "code",
      "metadata": {
        "id": "kEjH3cPdAWpH",
        "colab_type": "code",
        "colab": {}
      },
      "source": [
        "# Set thresholds. If the frequency of a category is less then the threshold, it will be ignored. \n",
        "thresholds = np.array([1, 10, 20, 30, 40, 50])\n",
        "\n",
        "#Set tfidf vector\n",
        "tfidf = TfidfVectorizer(sublinear_tf=True, \n",
        "                        min_df=5, norm='l2', \n",
        "                        encoding='latin-1', \n",
        "                        ngram_range=(1, 2), \n",
        "                        stop_words='english')"
      ],
      "execution_count": 0,
      "outputs": []
    },
    {
      "cell_type": "code",
      "metadata": {
        "id": "nze1P9_oAWpK",
        "colab_type": "code",
        "outputId": "6dc76b20-68df-4502-d93f-677746d05a28",
        "colab": {
          "base_uri": "https://localhost:8080/",
          "height": 1000
        }
      },
      "source": [
        "# Iterate through each threshold and test the prediction accuracies.\n",
        "for threshold in thresholds:\n",
        "    \n",
        "    # Only include the categories whose frequencies are above the threshold. Save them into a dataframe df.\n",
        "    df = f2_reports[[(category_counts[category] >= threshold) for category in f2_reports['Category']]]\n",
        "    features = tfidf.fit_transform(df['Content']).toarray()\n",
        "    labels = df['label']\n",
        "    warnings.simplefilter(\"ignore\")\n",
        "    \n",
        "    # try to use SMOTE to oversample the reports if possible.\n",
        "    try:\n",
        "        sm = SMOTE(sampling_strategy='auto', random_state=7)\n",
        "        sm_X, sm_Y = sm.fit_sample(features ,labels)\n",
        "        print(\"SMOTE with threshold %s succeeded\" %threshold )\n",
        "    except:\n",
        "        sm_X = features\n",
        "        sm_Y = labels\n",
        "        print(\"SMOTE with threshold %s failed\" %threshold )\n",
        "    \n",
        "    ## Split the data into training and testing data\n",
        "    sm_X_train_2, sm_X_test_2, sm_Y_train_2, sm_Y_test_2 = train_test_split(sm_X, sm_Y, test_size=0.2, random_state=47)\n",
        "    # try RandomForest, LinearSVC, MultinomialNaiveBayes, and LogisticRegresssion.\n",
        "    models = [\n",
        "    RandomForestClassifier(n_estimators=200, max_depth=3, random_state=0),\n",
        "    LinearSVC(),\n",
        "    MultinomialNB(),\n",
        "    LogisticRegression(random_state=0),\n",
        "    ]\n",
        "    CV = 5\n",
        "    cv_df = pd.DataFrame(index=range(CV * len(models)))\n",
        "    entries = []\n",
        "    for model in models:\n",
        "        model_name = model.__class__.__name__\n",
        "        accuracies = cross_val_score(model, sm_X_train_2, sm_Y_train_2, scoring='accuracy', cv=CV)\n",
        "        for fold_idx, accuracy in enumerate(accuracies):\n",
        "            entries.append((model_name, fold_idx, accuracy))\n",
        "        cv_df = pd.DataFrame(entries, columns=['model_name', 'fold_idx', 'accuracy'])\n",
        "    \n",
        "    #Plot the results\n",
        "    sns.boxplot(x='model_name', y='accuracy', data=cv_df)\n",
        "    sns.stripplot(x='model_name', y='accuracy', data=cv_df, \n",
        "                  size=8, jitter=True, edgecolor=\"gray\", linewidth=2).set_title('Threshold: %s' %(str(threshold)))\n",
        "    plt.show()\n",
        "    display(cv_df.groupby('model_name').accuracy.mean())"
      ],
      "execution_count": 60,
      "outputs": [
        {
          "output_type": "stream",
          "text": [
            "SMOTE with threshold 1 failed\n"
          ],
          "name": "stdout"
        },
        {
          "output_type": "display_data",
          "data": {
            "image/png": "[encoded data removed]",
            "text/plain": [
              "<Figure size 432x288 with 1 Axes>"
            ]
          },
          "metadata": {
            "tags": []
          }
        },
        {
          "output_type": "display_data",
          "data": {
            "text/plain": [
              "model_name\n",
              "LinearSVC                 0.938613\n",
              "LogisticRegression        0.905947\n",
              "MultinomialNB             0.872315\n",
              "RandomForestClassifier    0.587496\n",
              "Name: accuracy, dtype: float64"
            ]
          },
          "metadata": {
            "tags": []
          }
        },
        {
          "output_type": "stream",
          "text": [
            "SMOTE with threshold 10 succeeded\n"
          ],
          "name": "stdout"
        },
        {
          "output_type": "display_data",
          "data": {
            "image/png": "[encoded data removed]",
            "text/plain": [
              "<Figure size 432x288 with 1 Axes>"
            ]
          },
          "metadata": {
            "tags": []
          }
        },
        {
          "output_type": "display_data",
          "data": {
            "text/plain": [
              "model_name\n",
              "LinearSVC                 0.983755\n",
              "LogisticRegression        0.975286\n",
              "MultinomialNB             0.972085\n",
              "RandomForestClassifier    0.893077\n",
              "Name: accuracy, dtype: float64"
            ]
          },
          "metadata": {
            "tags": []
          }
        },
        {
          "output_type": "stream",
          "text": [
            "SMOTE with threshold 20 succeeded\n"
          ],
          "name": "stdout"
        },
        {
          "output_type": "display_data",
          "data": {
            "image/png": "[encoded data removed]",
            "text/plain": [
              "<Figure size 432x288 with 1 Axes>"
            ]
          },
          "metadata": {
            "tags": []
          }
        },
        {
          "output_type": "display_data",
          "data": {
            "text/plain": [
              "model_name\n",
              "LinearSVC                 0.988528\n",
              "LogisticRegression        0.983566\n",
              "MultinomialNB             0.981044\n",
              "RandomForestClassifier    0.949144\n",
              "Name: accuracy, dtype: float64"
            ]
          },
          "metadata": {
            "tags": []
          }
        },
        {
          "output_type": "stream",
          "text": [
            "SMOTE with threshold 30 succeeded\n"
          ],
          "name": "stdout"
        },
        {
          "output_type": "display_data",
          "data": {
            "image/png": "[encoded data removed]",
            "text/plain": [
              "<Figure size 432x288 with 1 Axes>"
            ]
          },
          "metadata": {
            "tags": []
          }
        },
        {
          "output_type": "display_data",
          "data": {
            "text/plain": [
              "model_name\n",
              "LinearSVC                 0.994783\n",
              "LogisticRegression        0.987669\n",
              "MultinomialNB             0.984082\n",
              "RandomForestClassifier    0.975292\n",
              "Name: accuracy, dtype: float64"
            ]
          },
          "metadata": {
            "tags": []
          }
        },
        {
          "output_type": "stream",
          "text": [
            "SMOTE with threshold 40 succeeded\n"
          ],
          "name": "stdout"
        },
        {
          "output_type": "display_data",
          "data": {
            "image/png": "[encoded data removed]",
            "text/plain": [
              "<Figure size 432x288 with 1 Axes>"
            ]
          },
          "metadata": {
            "tags": []
          }
        },
        {
          "output_type": "display_data",
          "data": {
            "text/plain": [
              "model_name\n",
              "LinearSVC                 0.994783\n",
              "LogisticRegression        0.987669\n",
              "MultinomialNB             0.984082\n",
              "RandomForestClassifier    0.975292\n",
              "Name: accuracy, dtype: float64"
            ]
          },
          "metadata": {
            "tags": []
          }
        },
        {
          "output_type": "stream",
          "text": [
            "SMOTE with threshold 50 succeeded\n"
          ],
          "name": "stdout"
        },
        {
          "output_type": "display_data",
          "data": {
            "image/png": "[encoded data removed]",
            "text/plain": [
              "<Figure size 432x288 with 1 Axes>"
            ]
          },
          "metadata": {
            "tags": []
          }
        },
        {
          "output_type": "display_data",
          "data": {
            "text/plain": [
              "model_name\n",
              "LinearSVC                 0.990813\n",
              "LogisticRegression        0.993890\n",
              "MultinomialNB             0.990765\n",
              "RandomForestClassifier    0.953548\n",
              "Name: accuracy, dtype: float64"
            ]
          },
          "metadata": {
            "tags": []
          }
        }
      ]
    },
    {
      "cell_type": "markdown",
      "metadata": {
        "id": "z4RJM0i1AWpM",
        "colab_type": "text"
      },
      "source": [
        "## So We Choose a LinearSVC Model With Threshold 30"
      ]
    },
    {
      "cell_type": "code",
      "metadata": {
        "id": "CkMSCVwrAWpM",
        "colab_type": "code",
        "outputId": "653eba10-af70-4153-8c4a-bd3e88b53548",
        "colab": {
          "base_uri": "https://localhost:8080/",
          "height": 34
        }
      },
      "source": [
        "## Build the second filter\n",
        "filter_2 = LinearSVC()\n",
        "df = f2_reports[[(category_counts[category] >= threshold) for category in f2_reports['Category']]]\n",
        "features = tfidf.fit_transform(df.Content).toarray()\n",
        "labels = df['label']\n",
        "sm = SMOTE(sampling_strategy='auto', random_state=7)\n",
        "sm_X, sm_Y = sm.fit_sample(features ,labels)\n",
        "sm_X_train_2, sm_X_test_2, sm_Y_train_2, sm_Y_test_2 = train_test_split(sm_X, sm_Y, test_size=0.2, random_state=47)\n",
        "filter_2.fit(sm_X_train_2,sm_Y_train_2)\n",
        "display(sklearn.metrics.f1_score(sm_Y_test_2, filter_2.predict(sm_X_test_2), average='micro'))"
      ],
      "execution_count": 61,
      "outputs": [
        {
          "output_type": "display_data",
          "data": {
            "text/plain": [
              "0.9876543209876543"
            ]
          },
          "metadata": {
            "tags": []
          }
        }
      ]
    },
    {
      "cell_type": "markdown",
      "metadata": {
        "id": "bzbzxcifAWpP",
        "colab_type": "text"
      },
      "source": [
        "# Use Filter_1 And Filter_2 "
      ]
    },
    {
      "cell_type": "code",
      "metadata": {
        "id": "Q7m1htqPAWpW",
        "colab_type": "code",
        "colab": {
          "base_uri": "https://localhost:8080/",
          "height": 68
        },
        "outputId": "1d044022-a703-4d20-ea00-48a43f82d8ca"
      },
      "source": [
        "from itertools import product\n",
        "from sklearn.ensemble import VotingClassifier\n",
        "\n",
        "# Training classifiers\n",
        "clf_1 = LinearSVC()\n",
        "clf_2 = LinearSVC()\n",
        "eclf = VotingClassifier(estimators=[('f1_svc', clf_1), ('f2_svc', clf_2)],\n",
        "                        voting='hard', weights=[2, 2])\n",
        "\n",
        "clf1 = clf_1.fit(sm_X_train_1,sm_Y_train_1)\n",
        "clf2 = clf_2.fit(sm_X_train_2,sm_Y_train_2)\n",
        "eclf = eclf.fit(sm_X_train,sm_Y_train)\n",
        "\n",
        "for clf, label in zip([clf1, clf2, eclf], ['Linear SVC f1', 'Linear SVC f2', 'Ensemble']):\n",
        "  scores = cross_val_score(clf, sm_X_train, sm_Y_train, cv=5, scoring='accuracy')\n",
        "  print(\"Accuracy: %0.2f (+/- %0.2f) [%s]\" % (scores.mean(), scores.std(), label))\n"
      ],
      "execution_count": 63,
      "outputs": [
        {
          "output_type": "stream",
          "text": [
            "Accuracy: 0.99 (+/- 0.01) [Linear SVC f1]\n",
            "Accuracy: 0.99 (+/- 0.01) [Linear SVC f2]\n",
            "Accuracy: 0.99 (+/- 0.01) [Ensemble]\n"
          ],
          "name": "stdout"
        }
      ]
    }
  ]
}